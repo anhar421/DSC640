{
 "cells": [
  {
   "cell_type": "code",
   "execution_count": null,
   "metadata": {},
   "outputs": [],
   "source": [
    "# For plots\n",
    "library(\"dplyr\")\n",
    "library(\"ggplot2\")\n",
    "library(\"reshape2\")"
   ]
  },
  {
   "cell_type": "code",
   "execution_count": null,
   "metadata": {},
   "outputs": [],
   "source": [
    "# Import CSV \n",
    "unemp <- read.csv(\"unemployement-rate-1948-2010.csv\")"
   ]
  },
  {
   "cell_type": "code",
   "execution_count": null,
   "metadata": {},
   "outputs": [],
   "source": [
    "install.packages(\"htmltools\")"
   ]
  },
  {
   "cell_type": "code",
   "execution_count": null,
   "metadata": {},
   "outputs": [],
   "source": [
    "library(\"treemap\")"
   ]
  },
  {
   "cell_type": "code",
   "execution_count": 7,
   "metadata": {},
   "outputs": [
    {
     "ename": "ERROR",
     "evalue": "Error in treemap(unemp, index = \"Year\", vSize = \"Value\", type = \"index\"): could not find function \"treemap\"\n",
     "output_type": "error",
     "traceback": [
      "Error in treemap(unemp, index = \"Year\", vSize = \"Value\", type = \"index\"): could not find function \"treemap\"\nTraceback:\n"
     ]
    }
   ],
   "source": [
    "treemap(unemp,\n",
    "            index=\"Year\",\n",
    "            vSize=\"Value\",\n",
    "            type=\"index\"\n",
    "            )"
   ]
  },
  {
   "cell_type": "code",
   "execution_count": null,
   "metadata": {},
   "outputs": [],
   "source": []
  }
 ],
 "metadata": {
  "kernelspec": {
   "display_name": "R",
   "language": "R",
   "name": "ir"
  },
  "language_info": {
   "codemirror_mode": "r",
   "file_extension": ".r",
   "mimetype": "text/x-r-source",
   "name": "R",
   "pygments_lexer": "r",
   "version": "3.6.1"
  }
 },
 "nbformat": 4,
 "nbformat_minor": 4
}
